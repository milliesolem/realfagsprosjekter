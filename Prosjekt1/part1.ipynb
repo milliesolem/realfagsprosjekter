{
 "cells": [
  {
   "cell_type": "code",
   "execution_count": null,
   "metadata": {},
   "outputs": [],
   "source": [
    "import sys\n",
    "sys.path.append(\".\")\n",
    "sys.path.append(\"..\")\n",
    "sys.path.append(\"tests\")\n",
    "from IPython.display import IFrame\n",
    "import importlib\n",
    "import numpy as np\n",
    "import matplotlib.pyplot as plt\n",
    "from pointparticles.single_particle_dynamics import PointParticle\n",
    "from part1 import *\n",
    "%matplotlib notebook"
   ]
  },
  {
   "cell_type": "markdown",
   "metadata": {},
   "source": [
    "# Part 1: 1-dimensional Spring System\n",
    "This is the notebook for Part 1 of Project 1:\n",
    "- The spring system will be implemented in `spring.py` following the outline described in this notebook.\n",
    "- The implementation will be tested in this notebook.\n",
    "- This notebook will also test your understanding of the system.\n",
    "\n",
    "## 1. An overview: Forces in the spring system\n",
    "Our model involves 2 forces: gravity ($G$) and the spring force ($S$). We'll be working in 1 dimension, called $x$, which points upwards (see figure below). The forces are given by:\n",
    "\n",
    "$$G=mg\\quad\\text{and}\\quad S=-k(x-x_{eq})$$\n",
    "\n",
    "Here, the parameters include the mass (of the box) $m$, the gravitational acceleration $g$, the spring constant $k$ and the _natural_ spring equilibrium $x_{eq}$. The natural equilibrium position of the string is dependent on two parameters: the base of the spring ($x_b$) and the natural length of the spring ($L$). The natural length of the spring is the length of the spring when it is neither compressed nor expanded. It should not be difficult to see from the diagram below that\n",
    "\n",
    "$$x_{eq}=x_b-L$$\n",
    "\n",
    "The system obeys Newton's second law of motion, namely:\n",
    "\n",
    "$$\\sum F=G+S=ma$$\n",
    "\n",
    "Here, $a$ is the acceleration resultant of the net force (_net_ = 'total' or 'sum') acting on the box."
   ]
  },
  {
   "cell_type": "code",
   "execution_count": null,
   "metadata": {},
   "outputs": [],
   "source": [
    "# run this to see the figure\n",
    "IFrame(\"tikzfigures/1dspring.pdf\", width=750, height=820)  # change width/height if necessary"
   ]
  },
  {
   "cell_type": "markdown",
   "metadata": {},
   "source": [
    "In the diagram above, the mass is currently below the equilibrium point. This means that the spring force is pointing in the positive $x$ direction (upwards). Because the size (absolute value) of the spring force increases when $x$ goes further away from $x_{eq}$, the spring force eventually becomes stronger than gravity, thus pulling the box back up. This is illustrated in the diagram using the length of the force arrows (vectors): the length of the $S$ arrow is greater than the length of the $G$ arrow, which means the net force $\\sum F=G+S$ is pointing upwards."
   ]
  },
  {
   "cell_type": "markdown",
   "metadata": {},
   "source": [
    "## 2. Functors\n",
    "Before continuing to the main task we need to take a closer look on _functors_ in Python. A functor is similar to a function in that it takes an input and provides an output. The syntax for calling functors is exactly the same as for functions:\n",
    "```\n",
    "# f : a function accepting a single integer parameter\n",
    "# g : a functor  accepting a single integer parameter\n",
    "\n",
    "x = 1  # integer\n",
    "\n",
    "f(x)  # calls the function f\n",
    "g(x)  # calls the functor  g\n",
    "```\n",
    "Recall that _everything is an object_ in Python. So functions are actually also objects (or classes). So what's the difference between a function and a functor? The `function` class is a built-in type in Python, while a functor is a user-defined class that behaves like a function. To make a class a function, we need to implement the  *magic method*: `__call__`.\n",
    "\n",
    "But let's slow down. If functions and functors are just the same, why bother using functors at all? Why not just use functions? Consider the following linear function:"
   ]
  },
  {
   "cell_type": "code",
   "execution_count": null,
   "metadata": {},
   "outputs": [],
   "source": [
    "def linear_function(x, a=1, b=0):\n",
    "    return a*x + b\n",
    "\n",
    "# default behaviour\n",
    "print(linear_function(1))\n",
    "\n",
    "# specified behaviour\n",
    "print(linear_function(1, a=2, b=1))"
   ]
  },
  {
   "cell_type": "markdown",
   "metadata": {},
   "source": [
    "There's nothing wrong about this function. In fact, it's actually pretty great since it allows us to specify `a` and `b` if we want to (as shown in the example above). However, it's not very practical if we want to pass it along to another function that wants to use this function. Why? Well, consider this:"
   ]
  },
  {
   "cell_type": "code",
   "execution_count": null,
   "metadata": {},
   "outputs": [],
   "source": [
    "def multiply_output(x, n, f):\n",
    "    return n*f(x)\n",
    "\n",
    "# unable to specify 'a' and 'b'\n",
    "multiply_output(1, 2, linear_function)"
   ]
  },
  {
   "cell_type": "markdown",
   "metadata": {},
   "source": [
    "Without writing additional code (e.g. change the parameters of `multiply_output`), there's no way of specifying `a` and `b`. We always want to keep our code nice and tidy, so this is a problem. Luckily, functors come to the rescue. Here's the same linear function as a functor:"
   ]
  },
  {
   "cell_type": "code",
   "execution_count": null,
   "metadata": {},
   "outputs": [],
   "source": [
    "class Linear_Functor:\n",
    "    def __init__(self, a=1, b=0):\n",
    "        self.a = a\n",
    "        self.b = b\n",
    "    def __call__(self, x):\n",
    "        return self.a*x + self.b"
   ]
  },
  {
   "cell_type": "markdown",
   "metadata": {},
   "source": [
    "We can now easily create a linear function for which we only have to specify `a` and `b` once:"
   ]
  },
  {
   "cell_type": "code",
   "execution_count": null,
   "metadata": {},
   "outputs": [],
   "source": [
    "# create functor\n",
    "F = Linear_Functor(a=2, b=3)\n",
    "\n",
    "# we can now pass F knowing that 'a' and 'b' are specified\n",
    "print(multiply_output(1, 2, F))\n",
    "\n",
    "# since F is an object, we can change 'a' and 'b' whenever we want\n",
    "F.a = 1\n",
    "F.b = 0\n",
    "\n",
    "# now with 'a' and 'b' changed to the default output of linear_function\n",
    "print(multiply_output(1, 2, F))"
   ]
  },
  {
   "cell_type": "markdown",
   "metadata": {},
   "source": [
    "### Task:\n",
    "Write a functor called `Quadratic_Functor` that implements a quadratic function:\n",
    "\n",
    "$$f(x)=ax^2+bx+c$$\n",
    "\n",
    "The parameters should have defaults values `a=1`, `b=0` and `c=0`, and the implementation should pass the test below."
   ]
  },
  {
   "cell_type": "code",
   "execution_count": null,
   "metadata": {},
   "outputs": [],
   "source": [
    "# implement the functor here"
   ]
  },
  {
   "cell_type": "markdown",
   "metadata": {},
   "source": [
    "Once you have finished your implementation, run the test below."
   ]
  },
  {
   "cell_type": "code",
   "execution_count": null,
   "metadata": {},
   "outputs": [],
   "source": [
    "test_Quadratic_Functor(Quadratic_Functor)"
   ]
  },
  {
   "cell_type": "markdown",
   "metadata": {},
   "source": [
    "## 3. Let's Get Started\n",
    "We now want to apply our new-found love for functors to the forces in the spring system. Your task is to implement a functor called `NetSpringForce`, which takes into account both gravity and the spring force. These are some requirements for the functor:\n",
    "1. The functor should  store the following arguments: `m`, `k`, `g`, `xb` and `L`. The `__init__` constructor should take these arguments in the provided order. The definitions of these parameters are provided above.\n",
    "2. The `__call__` method should return the net force acting on the box, i.e., $\\sum F$.\n",
    "3. In order for the `__call__` method to be compatible with `PointParticle`, it needs to take 4 arguments: `self`, `t`, `r` and `v` (in that order).\n",
    "3. Some people prefer to write `g=-9.81` and say that the gravitational force is `G=mg`, while others write `g=9.81` and say that `G=-mg`. We don't want these two cases to be mixed up, so make sure `g` can be both positive and negative.\n",
    "4. As default values, set `g=9.81`, `xb=1` and `L=1`.\n",
    "\n",
    "The following code cell will test your implementation. If the test is successful, a graph of the motion is presented."
   ]
  },
  {
   "cell_type": "code",
   "execution_count": null,
   "metadata": {
    "scrolled": false
   },
   "outputs": [],
   "source": [
    "import spring\n",
    "from spring import NetSpringForce\n",
    "importlib.reload(spring)\n",
    "\n",
    "test_NetSpringForce(NetSpringForce, PointParticle)"
   ]
  },
  {
   "cell_type": "markdown",
   "metadata": {},
   "source": [
    "For the remainder of Part 1 of the project, you will investigate the behaviour of the spring system using your model."
   ]
  },
  {
   "cell_type": "markdown",
   "metadata": {},
   "source": [
    "## 4. Zero Gravity\n",
    "Let's now take a step back and look at the zero gravity case. Why? Well, in order to understand how gravity affects the system, we need to know how the system functions without gravity.\n",
    "\n",
    "Let's set the stage by setting up a box with a mass of 1 $kg$ in a gravityless spring system."
   ]
  },
  {
   "cell_type": "code",
   "execution_count": null,
   "metadata": {},
   "outputs": [],
   "source": [
    "box = PointParticle(mass=1)\n",
    "F = NetSpringForce(m=box.mass, k=1, g=0)\n",
    "box.simulate_path(F, dt=1e-4, N=1e5, r0=1, v0=0)\n",
    "box.plot()"
   ]
  },
  {
   "cell_type": "markdown",
   "metadata": {},
   "source": [
    "*Surprise surprise*, it's a sinusoidal curve! Or is it so obvious? Recall this spring does not experience gravity, meaning it might as well be floating in dead space, but it's still swinging back and forth! This is because of the spring force, of course (as there are no other forces involved). Regardless of whether gravity is pulling it down or not, the spring force will always try to pull the box towards the equilibrium position. **Hence, for all springs, it's not gravity that makes it start to fall down at** `t=0`. Sure, gravity may help, but it's not required.\n",
    "\n",
    "### Investigation: What does `m` do?\n",
    "Let's consider what happens when we increase `m`. Run the following code and study the results."
   ]
  },
  {
   "cell_type": "code",
   "execution_count": null,
   "metadata": {},
   "outputs": [],
   "source": [
    "# prepare figure\n",
    "plt.figure(figsize=(12,8))\n",
    "\n",
    "# loop over m values 0.1, 1, 10\n",
    "for m in [0.1, 1, 10]:\n",
    "    \n",
    "    # prepare and simulate spring\n",
    "    box = PointParticle(mass=m)\n",
    "    F = NetSpringForce(m=box.mass, k=1, g=0)\n",
    "    box.simulate_path(F, dt=1e-4, N=1e5, r0=1, v0=0)\n",
    "    \n",
    "    # plot path\n",
    "    plt.plot(box.t, box.r[:,0], label=m)\n",
    "\n",
    "# finish plot\n",
    "plt.legend(title=\"mass\")\n",
    "plt.title(\"Position curves for springs with different masses\", fontsize=16)\n",
    "plt.xlabel(r\"$t$ [s]\", fontsize=16)\n",
    "plt.ylabel(r\"$x(t)$ [m]\", fontsize=16)\n",
    "plt.show()"
   ]
  },
  {
   "cell_type": "markdown",
   "metadata": {},
   "source": [
    "#### Question: Describe the relationship between the mass and the frequency of the oscillation. Is anything else affected?\n",
    "\n",
    "Answer:\n",
    "\n"
   ]
  },
  {
   "cell_type": "markdown",
   "metadata": {},
   "source": [
    "### Investigation: What does `k` do?\n",
    "First things first: What is `k`?"
   ]
  },
  {
   "cell_type": "markdown",
   "metadata": {},
   "source": [
    "#### Task: Use Newton's second law of motion to find the units of `k` (ignore gravity).\n",
    "\n",
    "Answer:"
   ]
  },
  {
   "cell_type": "markdown",
   "metadata": {},
   "source": [
    "The spring constant is measure the amount of force required to extend or compress the string. That is, it measures how *stiff* or *flexible* a spring is.\n",
    "\n",
    "Alright, let's now do the same for `k` as we did for `m`:"
   ]
  },
  {
   "cell_type": "code",
   "execution_count": null,
   "metadata": {},
   "outputs": [],
   "source": [
    "# prepare figure\n",
    "plt.figure(figsize=(12,8))\n",
    "\n",
    "# loop over m values 0.1, 1, 10\n",
    "for k in [0.1, 1, 10]:\n",
    "    \n",
    "    # prepare and simulate spring\n",
    "    box = PointParticle(mass=1)\n",
    "    F = NetSpringForce(m=box.mass, k=k, g=0)\n",
    "    box.simulate_path(F, dt=1e-4, N=1e5, r0=1, v0=0)\n",
    "    \n",
    "    # plot path\n",
    "    plt.plot(box.t, box.r[:,0], label=k)\n",
    "\n",
    "# finish plot\n",
    "plt.legend(title=\"spring\\nconstant\")\n",
    "plt.title(\"Position curves for springs with different spring constants\", fontsize=16)\n",
    "plt.xlabel(r\"$t$ [s]\", fontsize=16)\n",
    "plt.ylabel(r\"$x(t)$ [m]\", fontsize=16)\n",
    "plt.show()"
   ]
  },
  {
   "cell_type": "markdown",
   "metadata": {},
   "source": [
    "#### Question: Describe the relationship between the spring constant and the frequency of the oscillation. How is it different from the frequency's relationship with mass?\n",
    "\n",
    "Answer: "
   ]
  },
  {
   "cell_type": "markdown",
   "metadata": {},
   "source": [
    "### Investigation: Final look at `m` and `k`.\n",
    "You might have noticed that the graphs you got from changing `k` are exactly the same graphs you got from changing `m`, but in reverse order. This is not a coincidence. The truth comes from the fact that the *angular* frequency of the oscillation is given by\n",
    "\n",
    "$$2\\pi f=\\omega=\\sqrt{\\frac{k}{m}}$$\n",
    "\n",
    "This means that the curves we see in the graphs above are cosine curves on the form $\\cos(\\omega t)$ (they're cosine curves and not sinus curves because they start at the top of the wave). You can prove this mathematically, but that's beyond the scope of what we're interested in. We're instead going to check this numerically.\n",
    "\n",
    "#### Task: Finish the loop below and prove that the frequency of the curves are constant if $k/m$ is constant."
   ]
  },
  {
   "cell_type": "code",
   "execution_count": null,
   "metadata": {},
   "outputs": [],
   "source": [
    "# prepare figure\n",
    "plt.figure(figsize=(12,8))\n",
    "\n",
    "# for ...\n",
    "    \n",
    "    # prepare and simulate spring\n",
    "    # box = ...\n",
    "    # F = ...\n",
    "    box.simulate_path(F, dt=1e-4, N=1e5, r0=1, v0=0)\n",
    "    \n",
    "    # plot path\n",
    "    plt.plot(box.t, box.r[:,0], label= #... )  # choose your own label\n",
    "\n",
    "# finish plot\n",
    "plt.legend(title=\"\") # choose your own legend title\n",
    "plt.title(r\"Position curves for different springs with equal $k/m$ ratios\", fontsize=16)\n",
    "plt.xlabel(r\"$t$ [s]\", fontsize=16)\n",
    "plt.ylabel(r\"$x(t)$ [m]\", fontsize=16)\n",
    "plt.show()"
   ]
  },
  {
   "cell_type": "markdown",
   "metadata": {},
   "source": [
    "## 5. G for Gravity\n",
    "Now that we've gotten comfortable with the spring itself, let's add gravity into the mix. Let's use the same example as the one we used for Zero Gravity:"
   ]
  },
  {
   "cell_type": "code",
   "execution_count": null,
   "metadata": {},
   "outputs": [],
   "source": [
    "box = PointParticle(mass=1)\n",
    "F = NetSpringForce(m=box.mass, k=1, g=9.81)\n",
    "box.simulate_path(F, dt=1e-4, N=1e5, r0=1, v0=0)\n",
    "box.plot()"
   ]
  },
  {
   "cell_type": "markdown",
   "metadata": {},
   "source": [
    "#### Task: Describe the difference and similarities between this plot and the same plot in the Zero Gravity example (note the axes!).\n",
    "\n",
    "Answer:"
   ]
  },
  {
   "cell_type": "markdown",
   "metadata": {},
   "source": [
    "To understand how gravity affects the spring, let's try shifting the initial starting position down."
   ]
  },
  {
   "cell_type": "code",
   "execution_count": null,
   "metadata": {},
   "outputs": [],
   "source": [
    "box = PointParticle(mass=1)\n",
    "F = NetSpringForce(m=box.mass, k=1, g=9.81)\n",
    "shift = F.m*F.g/F.k  # calculate shift\n",
    "box.simulate_path(F, dt=1e-4, N=1e5, r0=1-shift, v0=0)  # adjust initial position by the shift\n",
    "box.plot()"
   ]
  },
  {
   "cell_type": "markdown",
   "metadata": {},
   "source": [
    "#### Task: Check that the `shift` variable is in units of *meters* (so that doing `r0=1-shift` makes sense).\n",
    "\n",
    "Show your work:\n",
    "\n",
    "#### Question: Describe the plot above and compare it with both the Zero Gravity plot and the previous plot. Make special note of the axes.\n",
    "\n",
    "Answer:\n",
    "\n",
    "#### Question: What does gravity do in this system?\n",
    "\n",
    "Answer:"
   ]
  },
  {
   "cell_type": "markdown",
   "metadata": {},
   "source": [
    "## 6. Go nuts\n",
    "As a final challenge, make 3 unique spring systems that display different scenarios. You can mess around with whatever you want: `m`, `k`, `g`, `xb` and `L`. Maybe try using the gravitational acceleration from Mars (Google it)? You can also fiddle with `dt` and `N` if you want (/dare)."
   ]
  },
  {
   "cell_type": "code",
   "execution_count": null,
   "metadata": {},
   "outputs": [],
   "source": []
  },
  {
   "cell_type": "code",
   "execution_count": null,
   "metadata": {},
   "outputs": [],
   "source": []
  },
  {
   "cell_type": "code",
   "execution_count": null,
   "metadata": {},
   "outputs": [],
   "source": []
  }
 ],
 "metadata": {
  "kernelspec": {
   "display_name": "Python 3",
   "language": "python",
   "name": "python3"
  },
  "language_info": {
   "codemirror_mode": {
    "name": "ipython",
    "version": 3
   },
   "file_extension": ".py",
   "mimetype": "text/x-python",
   "name": "python",
   "nbconvert_exporter": "python",
   "pygments_lexer": "ipython3",
   "version": "3.6.9"
  }
 },
 "nbformat": 4,
 "nbformat_minor": 2
}
