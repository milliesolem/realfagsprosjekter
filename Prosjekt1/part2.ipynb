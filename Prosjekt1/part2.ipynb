{
 "cells": [
  {
   "cell_type": "code",
   "execution_count": null,
   "metadata": {},
   "outputs": [],
   "source": [
    "import sys\n",
    "sys.path.append(\".\")\n",
    "sys.path.append(\"..\")\n",
    "sys.path.append(\"tests\")\n",
    "from IPython.display import IFrame\n",
    "import importlib\n",
    "import numpy as np\n",
    "import matplotlib.pyplot as plt\n",
    "from pointparticles.single_particle_dynamics import PointParticle\n",
    "%matplotlib notebook"
   ]
  },
  {
   "cell_type": "markdown",
   "metadata": {},
   "source": [
    "# Part 2: Pendulum with an elastic string\n",
    "This is the notebook for Part 2 of Project 1:\n",
    "- The spring system will be implemented in `simple_pendulum.py` following the outline described in this notebook.\n",
    "- This notebook will show you how you can test the implementation yourself.\n",
    "\n",
    "## 1. An overview: Forces in the pendulum system\n",
    "Like the 1-dimensional spring system, our model for the pendulum system contains 2 forces: gravity ( $\\vec{G}$ ) and the tension force ( $\\vec{T}$ ) from the string. Because we're allowing the string to be elastic (meaning we can change its length by either compressing or extending it), we'll model the string as a very stiff spring (see figure below)."
   ]
  },
  {
   "cell_type": "markdown",
   "metadata": {},
   "source": [
    "#### Question: Is the spring constant ($k$) for a stiff spring high or low? (Hint: What does $k$ measure?)\n",
    "\n",
    "Answer:"
   ]
  },
  {
   "cell_type": "markdown",
   "metadata": {},
   "source": [
    "Unlike in the 1-dimensional spring system, the forces are now *vectors*, meaning they can have one component in the $x$-direction and one component in the $y$-direction. This isn't a problem, however, as Newton's laws of motion are just as valid in vector form:\n",
    "\n",
    "$$\\sum \\vec{F}=m\\vec{a}$$\n",
    "\n",
    "**NOTE**: In the 1-dimensional system we used $x$ to represent the vertical dimension (*upwards*). Whether we call this dimension $x$, $y$ or $donkey$ doesn't matter as long as we're consistent. Now that we're working in 2 dimensions, we'll follow standard notation and define the $x$-direction to point horizontally, and define the $y$-direction to point vertically. See the figure for details.\n",
    "\n",
    "<img src=\"tikzfigures/2dpendulum.png\" alt=\"PendulumSystemDiagram\" style=\"width: 800px;\"/>"
   ]
  },
  {
   "cell_type": "markdown",
   "metadata": {},
   "source": [
    "### Investigation: Expressing the Net Force\n",
    "Our first job is to find a way to express the net force. Our vectors have 2 components, so we can write them like this:\n",
    "\n",
    "$$\\vec{r}=\\left(\\array{x\\\\y}\\right),\\quad \\vec{F}=\\left(\\array{F_x\\\\F_y}\\right)\\quad\\text{or}\\quad\\vec{r}=(x,y),\\quad \\vec{F}=(F_x,F_y)$$\n",
    "\n",
    "Whether we choose to write the vectors as column vectors (left) or row vectors (right) doesn't matter *as long as we're consistent*."
   ]
  },
  {
   "cell_type": "markdown",
   "metadata": {},
   "source": [
    "#### Task: Find a way to write $\\vec{G}$ as above.\n",
    "\n",
    "Answer:"
   ]
  },
  {
   "cell_type": "markdown",
   "metadata": {},
   "source": [
    "Before continuing, make sure that you can see the parallel between the 1-dimensional spring we studied in part 1 and the spring-like elastic string we're modelling here. To test your understanding, try to imagine the 2-dimensional pendulum system depicted in the figure above in a gravityless environment (i.e., $\\vec{G}=0$). How would this pendulum behave?"
   ]
  },
  {
   "cell_type": "markdown",
   "metadata": {},
   "source": [
    "#### Question: How would the gravityless system behave?\n",
    "\n",
    "Answer:"
   ]
  },
  {
   "cell_type": "markdown",
   "metadata": {},
   "source": [
    "Let's now tackle the tension force. Recall from part 1 that the spring force was given by $S=-k(x-x_{eq})$. We're now going to generalize this expression to account for the direction of $\\vec{T}$ by swapping $x$ and $x_{eq}$ for vectors $\\vec{r}$ and $\\vec{r}_{eq}$:\n",
    "\n",
    "$$\\vec{T}=-k(\\vec{r}-\\vec{r}_{eq})$$"
   ]
  },
  {
   "cell_type": "markdown",
   "metadata": {},
   "source": [
    "#### Task: Find a unit vector $\\vec{u}$ that points from the attachment point of the pendulum to the mass (Hint: $\\vec{r}$ and $\\vec{r}_b$ look very suspicious.)\n",
    "#### Note: a unit vector is a vector of length 1.\n",
    "\n",
    "Answer:"
   ]
  },
  {
   "cell_type": "markdown",
   "metadata": {},
   "source": [
    "#### Task: Find $\\vec{r}_{eq}$ by combining $\\vec{r}_b$, $\\vec{u}$ and $L$.\n",
    "\n",
    "#### (Hint: $\\vec{r}_{eq}$ is the *natural* position of the pendulum when the string is pointing in the direction of $\\vec{u}$. If you're having trouble finding $\\vec{r}_{eq}$, try finding $x_{eq}$ from $x_b$ and $L$ in the 1-dimensional spring system.)\n",
    "\n",
    "Answer:"
   ]
  },
  {
   "cell_type": "markdown",
   "metadata": {},
   "source": [
    "We're now finally ready to combine everything into one neat equation:\n",
    "\n",
    "$$\\sum\\vec{F}=\\vec{G}+\\vec{T}=\\vec{G}-k(\\vec{r}-\\vec{r}_{eq})$$"
   ]
  },
  {
   "cell_type": "markdown",
   "metadata": {},
   "source": [
    "## 2. NumPy Vectors\n",
    "**OBS**: You're not expected to remember all this right here and now. Check it out now and just move on to the next section whenever you feel ready. You can always come back and get whatever you need later.\n",
    "\n",
    "To write vectors in Python we *can* use the built-in `list` class. Let's look at an example:"
   ]
  },
  {
   "cell_type": "code",
   "execution_count": null,
   "metadata": {},
   "outputs": [],
   "source": [
    "r1 = [1, 2]  # position vector with x=1 and y=2\n",
    "r2 = [2, 3]  # position vector with x=2 and y=3\n",
    "\n",
    "# prepare sum vector\n",
    "r_sum = [0,0]\n",
    "\n",
    "# fill with the sum of the x components and y components (separately)\n",
    "r_sum[0] = r1[0] + r2[0]\n",
    "r_sum[1] = r1[1] + r2[1]\n",
    "\n",
    "# we can't do \"r_sum = r1 + r2\" as we would on paper\n",
    "# if you don't see why, try printing r1+r2\n",
    "\n",
    "print(r1, r2, r_sum)"
   ]
  },
  {
   "cell_type": "markdown",
   "metadata": {},
   "source": [
    "Great! It works. But it's super tedious to type out `r_sum[0] = r1[0] + r2[0]` every time we want to sum the $x$-components of a vector. Luckily, Python's `NumPy` package comes to the rescue. Here's the same code but using `NumPy` (btw. `NumPy` is usually pronounced *numpee*):"
   ]
  },
  {
   "cell_type": "code",
   "execution_count": null,
   "metadata": {},
   "outputs": [],
   "source": [
    "# setup arrays by converting the lists to arrays\n",
    "r1 = np.array([1,2])\n",
    "r2 = np.array([2,3])\n",
    "\n",
    "r_sum = r1 + r2\n",
    "print(r1, r2, r_sum)"
   ]
  },
  {
   "cell_type": "markdown",
   "metadata": {},
   "source": [
    "Boom! Much better. We can now even write our vector equations like we would on paper (meaning we don't have to add each component separately like we do for lists). Better yet, operations with `NumPy` arrays are written in `C` so they're **much** faster than using lists. This isn't a problem for our simple example here, but if you're performing $>10^6$ operations the difference can be huge.\n",
    "\n",
    "There are several ways to generate an array. These are the simplest (i.e., best):"
   ]
  },
  {
   "cell_type": "code",
   "execution_count": null,
   "metadata": {},
   "outputs": [],
   "source": [
    "# generate an array from a list\n",
    "l = [1,2,3]\n",
    "x = np.array(l)   # or simply  np.array([1,2,3])\n",
    "\n",
    "# generate an array of length 4 filled with zeros\n",
    "y = np.zeros(4)\n",
    "\n",
    "# generate an array with 5 linearly spaced elements from 0 to 1\n",
    "z = np.linspace(0, 1, 5)\n",
    "\n",
    "print(x,y,z)"
   ]
  },
  {
   "cell_type": "markdown",
   "metadata": {},
   "source": [
    "When you have created a `NumPy` array you can access the elements like this:"
   ]
  },
  {
   "cell_type": "code",
   "execution_count": null,
   "metadata": {},
   "outputs": [],
   "source": [
    "# prepare sample array\n",
    "x = np.linspace(1,10,10)\n",
    "print(x)\n",
    "\n",
    "# get element at index\n",
    "print(x[0])   # this is the 1st element in the list\n",
    "print(x[3])   # this is the -> 4th <- (NOT 3rd) element in the array\n",
    "print(x[-1])  # this is the last element in the array\n",
    "\n",
    "# range of indices\n",
    "print(x[0:3])   # get elements from index 0 to and NOT including index 3\n",
    "print(x[0:-1])  # get every element except the element at the last index\n",
    "print(x[:-1])   # get every element except the element at the last index\n",
    "print(x[1:])    # get every element except the element at the first index\n",
    "\n",
    "# number of elements in an array\n",
    "print(len(x))\n",
    "print(x.size)"
   ]
  },
  {
   "cell_type": "markdown",
   "metadata": {},
   "source": [
    "By accessing the elements in an array we can also change them:"
   ]
  },
  {
   "cell_type": "code",
   "execution_count": null,
   "metadata": {},
   "outputs": [],
   "source": [
    "# prepare arrays\n",
    "x = np.linspace(1,10,10)\n",
    "y = np.linspace(3,1,3)   # linspace can also go backwards!\n",
    "print(x,y)\n",
    "\n",
    "# edit x\n",
    "x[3] = -1\n",
    "x[4:7] = y\n",
    "\n",
    "# edit the entirety of y\n",
    "y = y**2\n",
    "\n",
    "# print results\n",
    "print(x,y)"
   ]
  },
  {
   "cell_type": "markdown",
   "metadata": {},
   "source": [
    "When working with vector equations, `NumPy` arrays are delightful to work with. Here's a couple of **awesome** mathematical properties of `NumPy` arrays."
   ]
  },
  {
   "cell_type": "code",
   "execution_count": null,
   "metadata": {},
   "outputs": [],
   "source": [
    "# setup example arrays\n",
    "x = np.array([1,1])\n",
    "y = np.array([-1,2])\n",
    "print(x,y)\n",
    "\n",
    "# array arithmetic\n",
    "print(x+y, x-y, x*y, x/y)\n",
    "\n",
    "# arrays can also be raised to a power term by term\n",
    "print(x**2, y**2)\n",
    "\n",
    "# arrays also work with ordinary numbers\n",
    "print(x+2, x-2, x*2, x/2)\n",
    "\n",
    "# finding the length of vectors : |x| = np.sqrt( x[0]^2 + y[0]^2 )\n",
    "print(np.linalg.norm(x), np.linalg.norm(y))\n",
    "\n",
    "# mathematical functions of arrays (happens at each entry separately)\n",
    "print(np.sin(x))   # sin(x)\n",
    "print(np.cos(x))   # cos(x)\n",
    "print(np.exp(x))   # e^x\n",
    "\n",
    "# summation and products\n",
    "print(np.sum(x))\n",
    "print(np.prod(x))"
   ]
  },
  {
   "cell_type": "markdown",
   "metadata": {},
   "source": [
    "`NumPy`comes prepared with *everything you will ever need* for mathematical programming. Mathematical functions, algorithms, linear algebra, differential equations, complex numbers, $n$-dimensional tensors, etc. etc. You need it, `NumPy`'s got it. In order to use `NumPy` arrays like I did here, you need the statement:\n",
    "```\n",
    "import numpy as np\n",
    "```"
   ]
  },
  {
   "cell_type": "markdown",
   "metadata": {},
   "source": [
    "## 3. Setting up the Pendulum System\n",
    "You're now going to make a functor called `NetPendulumForce` in the same style as you did with `NetSpringForce` in Part 1. The requirements are the same as before, except the `xb` argument should now be replaced by `rb`, which is an array with two elements. The default value of `rb` should be `np.array([0,1])`.\n",
    "\n",
    "Like before we need to check that `NetPendulumForce` actually works before we can start analyzing the results generated by the functor. How can we check that it works? Well, we know how normal pendulums work. So can we relate our elastic pendulum to a normal pendulum?"
   ]
  },
  {
   "cell_type": "markdown",
   "metadata": {},
   "source": [
    "#### Task: What '*value*' of $k$ do we need to get a normal pendulum from the elastic pendulum? (Hint: What happens when you change $k$?)\n",
    "\n",
    "Answer:"
   ]
  },
  {
   "cell_type": "markdown",
   "metadata": {},
   "source": [
    "### Reproducing a normal pendulum\n",
    "Use your functor with an *appropriate* value of $k$ (Pro tip: Trail and error) in order to simulate a normal pendulum using `PointParticle`. Use these parameters and initial conditions:"
   ]
  },
  {
   "cell_type": "code",
   "execution_count": null,
   "metadata": {},
   "outputs": [],
   "source": [
    "# pendulum parameters\n",
    "m = 1\n",
    "k = # fill\n",
    "L = 1\n",
    "g = 9.81\n",
    "rb = np.array([0,1])\n",
    "\n",
    "# initial conditions for the motion\n",
    "theta = -np.pi/3\n",
    "u = np.array([np.cos(theta), np.sin(theta)])  # if you're curious what this does, Google polar coordinates\n",
    "r0 = rb + L*u\n",
    "v0 = np.zeros(2)\n",
    "\n",
    "# integration parameters\n",
    "dt = 1e-4  # btw. this means 1 * 10^(-4)\n",
    "N = 1e5    # so this means   1 * 10^(5)"
   ]
  },
  {
   "cell_type": "markdown",
   "metadata": {},
   "source": [
    "You may have to adjust the `integration parameters`. If you get really weird results, try *decreasing* `dt` and *increasing* `N`."
   ]
  },
  {
   "cell_type": "code",
   "execution_count": null,
   "metadata": {},
   "outputs": [],
   "source": [
    "# you need to run this to update NetPendulumForce if you change anything in simple_pendulum.py\n",
    "import simple_pendulum\n",
    "from simple_pendulum import NetPendulumForce\n",
    "simple_pendulum = importlib.reload(simple_pendulum)\n",
    "\n",
    "# implement the pendulum here\n",
    "\n",
    "# plot results with PointParticle's plot_2D_path() method here"
   ]
  },
  {
   "cell_type": "markdown",
   "metadata": {},
   "source": [
    "You have hopefully gotten something that looks like the path of a pendulum. If you're having trouble, double check your `__call__` method to see if you have implemented $\\sum\\vec{F}$ correctly. If you're sure its correct, go back and double check your formulas from section 1."
   ]
  },
  {
   "cell_type": "markdown",
   "metadata": {},
   "source": [
    "### Testing the normal pendulum\n",
    "What's great about testing your elastic pendulum code using the normal pendulum is that we know exactly how normal pendulums work. Specifically, we know that if the amplitude of the pendulum is small, the period is approximately given by:\n",
    "\n",
    "$$T=2\\pi\\sqrt{\\frac{L}{g}}$$\n",
    "\n",
    "#### Task\n",
    "Plot the $x$ and $y$ components of the normal pendulum motion and use the plots to judge whether our simulated pendulum obeys the period equation above (if it does so only approximately that's fine). You may have to find a suitable combination of `dt` and `N` so that it's easy to read off the graph."
   ]
  },
  {
   "cell_type": "code",
   "execution_count": null,
   "metadata": {},
   "outputs": [],
   "source": [
    "# implement the motion here\n",
    "\n",
    "# .plot(0) <- this plots the x component\n",
    "# .plot(1) <- this plots the y component"
   ]
  },
  {
   "cell_type": "markdown",
   "metadata": {},
   "source": [
    "Show your work:"
   ]
  },
  {
   "cell_type": "markdown",
   "metadata": {},
   "source": [
    "## 4. Simulating the Elastic Pendulum\n",
    "Now that we know our simulation is working, let's go ahead and model an elastic pendulum. Choose reasonable parameters and initial conditions based on your new experience with the pendulum system. If you're unsure, consult the previous exercise for inspiration."
   ]
  },
  {
   "cell_type": "code",
   "execution_count": null,
   "metadata": {},
   "outputs": [],
   "source": [
    "# parameters and initial conditions\n",
    "m = \n",
    "k = \n",
    "g = \n",
    "rb =\n",
    "L = \n",
    "dt = \n",
    "N = \n",
    "r0 = \n",
    "v0 = \n",
    "\n",
    "# simulate motion\n",
    "\n",
    "# plot motion"
   ]
  },
  {
   "cell_type": "markdown",
   "metadata": {},
   "source": [
    "### Animating the motion\n",
    "Animate an elastic pendulum using the sample code in `single_particle_dynamics.py`. Feel free to mess around with the parameters and the initial conditions. Create 3 different animations and save them under a folder called `animations`.\n",
    "\n",
    "**Note**: Animations are literally just a sequence of still images. Considering the time it takes for creating a singe image, creating 10,000 will obviously take some time. If it takes too long to save the animations, you can just show them here."
   ]
  },
  {
   "cell_type": "code",
   "execution_count": null,
   "metadata": {},
   "outputs": [],
   "source": [
    "# animation 1"
   ]
  },
  {
   "cell_type": "code",
   "execution_count": null,
   "metadata": {},
   "outputs": [],
   "source": [
    "# animation 2"
   ]
  },
  {
   "cell_type": "code",
   "execution_count": null,
   "metadata": {},
   "outputs": [],
   "source": [
    "# animation 3"
   ]
  }
 ],
 "metadata": {
  "kernelspec": {
   "display_name": "Python 3",
   "language": "python",
   "name": "python3"
  },
  "language_info": {
   "codemirror_mode": {
    "name": "ipython",
    "version": 3
   },
   "file_extension": ".py",
   "mimetype": "text/x-python",
   "name": "python",
   "nbconvert_exporter": "python",
   "pygments_lexer": "ipython3",
   "version": "3.6.9"
  }
 },
 "nbformat": 4,
 "nbformat_minor": 2
}
